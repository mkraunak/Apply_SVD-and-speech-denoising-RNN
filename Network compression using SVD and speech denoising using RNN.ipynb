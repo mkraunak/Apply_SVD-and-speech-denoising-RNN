{
 "cells": [
  {
   "cell_type": "code",
   "execution_count": 86,
   "metadata": {},
   "outputs": [
    {
     "data": {
      "text/plain": [
       "'1.12.0'"
      ]
     },
     "execution_count": 86,
     "metadata": {},
     "output_type": "execute_result"
    }
   ],
   "source": [
    "import tensorflow as tf\n",
    "tf.__version__"
   ]
  },
  {
   "cell_type": "code",
   "execution_count": 87,
   "metadata": {},
   "outputs": [
    {
     "name": "stdout",
     "output_type": "stream",
     "text": [
      "<module 'tensorflow._api.v1.keras.datasets.mnist' from 'C:\\\\Anaconda3\\\\lib\\\\site-packages\\\\tensorflow\\\\_api\\\\v1\\\\keras\\\\datasets\\\\mnist\\\\__init__.py'>\n"
     ]
    }
   ],
   "source": [
    "mnist = tf.keras.datasets.mnist # 28*28images of hand written digits from 0 t0 9\n",
    "print(mnist)\n",
    "\n",
    "(x_train, y_train), (x_test, y_test) = mnist.load_data()"
   ]
  },
  {
   "cell_type": "code",
   "execution_count": 88,
   "metadata": {},
   "outputs": [
    {
     "name": "stdout",
     "output_type": "stream",
     "text": [
      "(60000, 784)\n",
      "(10000, 784)\n",
      "float64\n"
     ]
    }
   ],
   "source": [
    "# Normalise the dataset\n",
    "\n",
    "x_train_N = tf.keras.utils.normalize(x_train, axis=1)\n",
    "x_test_N =  tf.keras.utils.normalize(x_test, axis=1)\n",
    "l_train=tf.keras.utils.to_categorical(y_train,10)\n",
    "l_test=tf.keras.utils.to_categorical(y_test,10)\n",
    "\n",
    "x_train_N=x_train_N.reshape(60000,784)\n",
    "x_test_N=x_test_N.reshape(10000,784)\n",
    "print(x_train_N.shape)\n",
    "\n",
    "print(x_test_N.shape)\n",
    "print(x_test_N.dtype)"
   ]
  },
  {
   "cell_type": "code",
   "execution_count": 89,
   "metadata": {},
   "outputs": [],
   "source": [
    "# Build the model \n",
    "# Feed forward netwrok(SEQUENTIAL)\n",
    "\n",
    "from keras import models\n",
    "from keras import layers\n",
    "from keras.layers import Dropout\n",
    "\n",
    "\n",
    "model = models.Sequential()\n",
    "\n",
    "\n",
    "#First Hidden Layer \n",
    "model.add(layers.Dense(1024,activation='relu',kernel_initializer='he_normal',input_shape=(784,)))\n",
    "\n",
    "\n",
    "# 2nd hidden layer \n",
    "model.add(layers.Dense(1024, activation='relu',kernel_initializer='he_normal'))\n",
    "\n",
    "\n",
    "\n",
    "# 3rd hidden layer \n",
    "model.add(layers.Dense(1024, activation='relu',kernel_initializer='he_normal'))\n",
    "\n",
    "\n",
    "# 4th hidden layer \n",
    "model.add(layers.Dense(1024, activation='relu',kernel_initializer='he_normal'))\n",
    "\n",
    "\n",
    "#5th hidden layer\n",
    "model.add(layers.Dense(1024, activation='relu',kernel_initializer='he_normal'))\n",
    "\n",
    "\n",
    "\n",
    "# final layer, since it is multiclassification problem we are going to use softmax activation function which gives output as probablity distribution\n",
    "model.add(layers.Dense(10, activation='softmax'))\n",
    "\n",
    "# parameters for the training of the model\n",
    "# neural netwrok tries to minimize the loss, loss is relationship to accuarcy \n",
    "\n",
    "model.compile(optimizer='adam',loss='categorical_crossentropy',metrics=['accuracy'])\n",
    "\n"
   ]
  },
  {
   "cell_type": "code",
   "execution_count": 90,
   "metadata": {},
   "outputs": [
    {
     "name": "stdout",
     "output_type": "stream",
     "text": [
      "Train on 48000 samples, validate on 12000 samples\n",
      "Epoch 1/90\n",
      " - 23s - loss: 0.2671 - acc: 0.9178 - val_loss: 0.1402 - val_acc: 0.9568\n",
      "Epoch 2/90\n",
      " - 22s - loss: 0.0958 - acc: 0.9707 - val_loss: 0.1329 - val_acc: 0.9607\n",
      "Epoch 3/90\n",
      " - 22s - loss: 0.0618 - acc: 0.9812 - val_loss: 0.0948 - val_acc: 0.9743\n",
      "Epoch 4/90\n",
      " - 22s - loss: 0.0428 - acc: 0.9866 - val_loss: 0.1191 - val_acc: 0.9670\n",
      "Epoch 5/90\n",
      " - 22s - loss: 0.0371 - acc: 0.9882 - val_loss: 0.1152 - val_acc: 0.9720\n",
      "Epoch 6/90\n",
      " - 22s - loss: 0.0330 - acc: 0.9896 - val_loss: 0.1202 - val_acc: 0.9726\n",
      "Epoch 7/90\n",
      " - 22s - loss: 0.0265 - acc: 0.9924 - val_loss: 0.1035 - val_acc: 0.9748\n",
      "Epoch 8/90\n",
      " - 22s - loss: 0.0187 - acc: 0.9942 - val_loss: 0.1201 - val_acc: 0.9746\n",
      "Epoch 9/90\n",
      " - 22s - loss: 0.0247 - acc: 0.9927 - val_loss: 0.1357 - val_acc: 0.9682\n",
      "Epoch 10/90\n",
      " - 23s - loss: 0.0214 - acc: 0.9937 - val_loss: 0.1306 - val_acc: 0.9692\n",
      "Epoch 11/90\n",
      " - 22s - loss: 0.0211 - acc: 0.9938 - val_loss: 0.1329 - val_acc: 0.9728\n",
      "Epoch 12/90\n",
      " - 22s - loss: 0.0146 - acc: 0.9960 - val_loss: 0.1408 - val_acc: 0.9743\n",
      "Epoch 13/90\n",
      " - 22s - loss: 0.0192 - acc: 0.9942 - val_loss: 0.1276 - val_acc: 0.9761\n",
      "Epoch 14/90\n",
      " - 22s - loss: 0.0112 - acc: 0.9966 - val_loss: 0.1381 - val_acc: 0.9727\n",
      "Epoch 15/90\n",
      " - 22s - loss: 0.0139 - acc: 0.9961 - val_loss: 0.1365 - val_acc: 0.9766\n",
      "Epoch 16/90\n",
      " - 22s - loss: 0.0110 - acc: 0.9969 - val_loss: 0.1393 - val_acc: 0.9744\n",
      "Epoch 17/90\n",
      " - 22s - loss: 0.0130 - acc: 0.9963 - val_loss: 0.1305 - val_acc: 0.9780\n",
      "Epoch 18/90\n",
      " - 22s - loss: 0.0081 - acc: 0.9980 - val_loss: 0.1235 - val_acc: 0.9782\n",
      "Epoch 19/90\n",
      " - 22s - loss: 0.0154 - acc: 0.9956 - val_loss: 0.1318 - val_acc: 0.9752\n",
      "Epoch 20/90\n",
      " - 21s - loss: 0.0123 - acc: 0.9968 - val_loss: 0.1365 - val_acc: 0.9737\n",
      "Epoch 21/90\n",
      " - 22s - loss: 0.0133 - acc: 0.9965 - val_loss: 0.1461 - val_acc: 0.9762\n",
      "Epoch 22/90\n",
      " - 22s - loss: 0.0077 - acc: 0.9977 - val_loss: 0.1412 - val_acc: 0.9771\n",
      "Epoch 23/90\n",
      " - 22s - loss: 0.0129 - acc: 0.9970 - val_loss: 0.1770 - val_acc: 0.9715\n",
      "Epoch 24/90\n",
      " - 22s - loss: 0.0150 - acc: 0.9956 - val_loss: 0.1380 - val_acc: 0.9746\n",
      "Epoch 25/90\n",
      " - 22s - loss: 0.0126 - acc: 0.9969 - val_loss: 0.1372 - val_acc: 0.9780\n",
      "Epoch 26/90\n",
      " - 22s - loss: 0.0138 - acc: 0.9966 - val_loss: 0.1152 - val_acc: 0.9795\n",
      "Epoch 27/90\n",
      " - 22s - loss: 0.0118 - acc: 0.9970 - val_loss: 0.1360 - val_acc: 0.9797\n",
      "Epoch 28/90\n",
      " - 23s - loss: 0.0107 - acc: 0.9974 - val_loss: 0.1368 - val_acc: 0.9778\n",
      "Epoch 29/90\n",
      " - 23s - loss: 0.0087 - acc: 0.9979 - val_loss: 0.1243 - val_acc: 0.9783\n",
      "Epoch 30/90\n",
      " - 22s - loss: 0.0107 - acc: 0.9975 - val_loss: 0.1505 - val_acc: 0.9765\n",
      "Epoch 31/90\n",
      " - 22s - loss: 0.0059 - acc: 0.9985 - val_loss: 0.1605 - val_acc: 0.9766\n",
      "Epoch 32/90\n",
      " - 22s - loss: 0.0082 - acc: 0.9980 - val_loss: 0.1511 - val_acc: 0.9779\n",
      "Epoch 33/90\n",
      " - 22s - loss: 0.0085 - acc: 0.9982 - val_loss: 0.1489 - val_acc: 0.9759\n",
      "Epoch 34/90\n",
      " - 22s - loss: 0.0094 - acc: 0.9974 - val_loss: 0.1445 - val_acc: 0.9770\n",
      "Epoch 35/90\n",
      " - 22s - loss: 0.0070 - acc: 0.9983 - val_loss: 0.1374 - val_acc: 0.9782\n",
      "Epoch 36/90\n",
      " - 22s - loss: 0.0108 - acc: 0.9979 - val_loss: 0.1558 - val_acc: 0.9789\n",
      "Epoch 37/90\n",
      " - 22s - loss: 0.0117 - acc: 0.9976 - val_loss: 0.1531 - val_acc: 0.9782\n",
      "Epoch 38/90\n",
      " - 23s - loss: 0.0123 - acc: 0.9973 - val_loss: 0.1469 - val_acc: 0.9757\n",
      "Epoch 39/90\n",
      " - 21s - loss: 0.0091 - acc: 0.9979 - val_loss: 0.1351 - val_acc: 0.9807\n",
      "Epoch 40/90\n",
      " - 22s - loss: 0.0043 - acc: 0.9990 - val_loss: 0.1296 - val_acc: 0.9791\n",
      "Epoch 41/90\n",
      " - 24s - loss: 0.0017 - acc: 0.9996 - val_loss: 0.1447 - val_acc: 0.9821\n",
      "Epoch 42/90\n",
      " - 23s - loss: 5.6597e-05 - acc: 1.0000 - val_loss: 0.1521 - val_acc: 0.9817\n",
      "Epoch 43/90\n",
      " - 22s - loss: 1.2096e-04 - acc: 1.0000 - val_loss: 0.1518 - val_acc: 0.9821\n",
      "Epoch 44/90\n",
      " - 42s - loss: 1.9088e-06 - acc: 1.0000 - val_loss: 0.1543 - val_acc: 0.9818\n",
      "Epoch 45/90\n",
      " - 48s - loss: 1.3100e-06 - acc: 1.0000 - val_loss: 0.1566 - val_acc: 0.9818\n",
      "Epoch 46/90\n",
      " - 49s - loss: 9.6541e-07 - acc: 1.0000 - val_loss: 0.1590 - val_acc: 0.9818\n",
      "Epoch 47/90\n",
      " - 48s - loss: 7.4669e-07 - acc: 1.0000 - val_loss: 0.1611 - val_acc: 0.9819\n",
      "Epoch 48/90\n",
      " - 48s - loss: 6.0027e-07 - acc: 1.0000 - val_loss: 0.1632 - val_acc: 0.9820\n",
      "Epoch 49/90\n",
      " - 47s - loss: 4.9671e-07 - acc: 1.0000 - val_loss: 0.1650 - val_acc: 0.9821\n",
      "Epoch 50/90\n",
      " - 49s - loss: 4.2286e-07 - acc: 1.0000 - val_loss: 0.1668 - val_acc: 0.9822\n",
      "Epoch 51/90\n",
      " - 46s - loss: 3.6746e-07 - acc: 1.0000 - val_loss: 0.1684 - val_acc: 0.9822\n",
      "Epoch 52/90\n",
      " - 45s - loss: 3.2499e-07 - acc: 1.0000 - val_loss: 0.1698 - val_acc: 0.9821\n",
      "Epoch 53/90\n",
      " - 47s - loss: 2.9174e-07 - acc: 1.0000 - val_loss: 0.1712 - val_acc: 0.9821\n",
      "Epoch 54/90\n",
      " - 46s - loss: 2.6567e-07 - acc: 1.0000 - val_loss: 0.1725 - val_acc: 0.9820\n",
      "Epoch 55/90\n",
      " - 45s - loss: 2.4410e-07 - acc: 1.0000 - val_loss: 0.1737 - val_acc: 0.9820\n",
      "Epoch 56/90\n",
      " - 45s - loss: 2.2649e-07 - acc: 1.0000 - val_loss: 0.1748 - val_acc: 0.9820\n",
      "Epoch 57/90\n",
      " - 53s - loss: 2.1191e-07 - acc: 1.0000 - val_loss: 0.1758 - val_acc: 0.9820\n",
      "Epoch 58/90\n",
      " - 42s - loss: 2.0000e-07 - acc: 1.0000 - val_loss: 0.1768 - val_acc: 0.9820\n",
      "Epoch 59/90\n",
      " - 43s - loss: 1.8967e-07 - acc: 1.0000 - val_loss: 0.1777 - val_acc: 0.9821\n",
      "Epoch 60/90\n",
      " - 42s - loss: 1.8102e-07 - acc: 1.0000 - val_loss: 0.1785 - val_acc: 0.9821\n",
      "Epoch 61/90\n",
      " - 42s - loss: 1.7374e-07 - acc: 1.0000 - val_loss: 0.1794 - val_acc: 0.9821\n",
      "Epoch 62/90\n",
      " - 42s - loss: 1.6740e-07 - acc: 1.0000 - val_loss: 0.1801 - val_acc: 0.9821\n",
      "Epoch 63/90\n",
      " - 42s - loss: 1.6191e-07 - acc: 1.0000 - val_loss: 0.1808 - val_acc: 0.9821\n",
      "Epoch 64/90\n",
      " - 42s - loss: 1.5715e-07 - acc: 1.0000 - val_loss: 0.1815 - val_acc: 0.9821\n",
      "Epoch 65/90\n",
      " - 42s - loss: 1.5304e-07 - acc: 1.0000 - val_loss: 0.1822 - val_acc: 0.9821\n",
      "Epoch 66/90\n",
      " - 42s - loss: 1.4938e-07 - acc: 1.0000 - val_loss: 0.1829 - val_acc: 0.9820\n",
      "Epoch 67/90\n",
      " - 43s - loss: 1.4623e-07 - acc: 1.0000 - val_loss: 0.1835 - val_acc: 0.9820\n",
      "Epoch 68/90\n",
      " - 42s - loss: 1.4342e-07 - acc: 1.0000 - val_loss: 0.1841 - val_acc: 0.9820\n",
      "Epoch 69/90\n",
      " - 42s - loss: 1.4093e-07 - acc: 1.0000 - val_loss: 0.1847 - val_acc: 0.9820\n",
      "Epoch 70/90\n",
      " - 42s - loss: 1.3877e-07 - acc: 1.0000 - val_loss: 0.1852 - val_acc: 0.9820\n",
      "Epoch 71/90\n",
      " - 42s - loss: 1.3683e-07 - acc: 1.0000 - val_loss: 0.1857 - val_acc: 0.9820\n",
      "Epoch 72/90\n",
      " - 42s - loss: 1.3510e-07 - acc: 1.0000 - val_loss: 0.1862 - val_acc: 0.9820\n",
      "Epoch 73/90\n",
      " - 54s - loss: 1.3357e-07 - acc: 1.0000 - val_loss: 0.1867 - val_acc: 0.9820\n",
      "Epoch 74/90\n",
      " - 42s - loss: 1.3220e-07 - acc: 1.0000 - val_loss: 0.1871 - val_acc: 0.9820\n",
      "Epoch 75/90\n",
      " - 42s - loss: 1.3100e-07 - acc: 1.0000 - val_loss: 0.1876 - val_acc: 0.9820\n",
      "Epoch 76/90\n",
      " - 43s - loss: 1.2987e-07 - acc: 1.0000 - val_loss: 0.1880 - val_acc: 0.9820\n",
      "Epoch 77/90\n",
      " - 45s - loss: 1.2888e-07 - acc: 1.0000 - val_loss: 0.1884 - val_acc: 0.9820\n",
      "Epoch 78/90\n",
      " - 48s - loss: 1.2799e-07 - acc: 1.0000 - val_loss: 0.1888 - val_acc: 0.9820\n",
      "Epoch 79/90\n",
      " - 47s - loss: 1.2719e-07 - acc: 1.0000 - val_loss: 0.1891 - val_acc: 0.9820\n",
      "Epoch 80/90\n",
      " - 51s - loss: 1.2647e-07 - acc: 1.0000 - val_loss: 0.1895 - val_acc: 0.9819\n",
      "Epoch 81/90\n",
      " - 41s - loss: 1.2582e-07 - acc: 1.0000 - val_loss: 0.1899 - val_acc: 0.9819\n",
      "Epoch 82/90\n",
      " - 41s - loss: 1.2522e-07 - acc: 1.0000 - val_loss: 0.1902 - val_acc: 0.9819\n",
      "Epoch 83/90\n",
      " - 41s - loss: 1.2469e-07 - acc: 1.0000 - val_loss: 0.1905 - val_acc: 0.9819\n",
      "Epoch 84/90\n",
      " - 41s - loss: 1.2423e-07 - acc: 1.0000 - val_loss: 0.1909 - val_acc: 0.9819\n",
      "Epoch 85/90\n",
      " - 40s - loss: 1.2379e-07 - acc: 1.0000 - val_loss: 0.1912 - val_acc: 0.9819\n",
      "Epoch 86/90\n",
      " - 40s - loss: 1.2340e-07 - acc: 1.0000 - val_loss: 0.1915 - val_acc: 0.9819\n",
      "Epoch 87/90\n",
      " - 40s - loss: 1.2303e-07 - acc: 1.0000 - val_loss: 0.1918 - val_acc: 0.9819\n",
      "Epoch 88/90\n",
      " - 40s - loss: 1.2271e-07 - acc: 1.0000 - val_loss: 0.1921 - val_acc: 0.9819\n",
      "Epoch 89/90\n",
      " - 40s - loss: 1.2241e-07 - acc: 1.0000 - val_loss: 0.1923 - val_acc: 0.9819\n",
      "Epoch 90/90\n",
      " - 41s - loss: 1.2213e-07 - acc: 1.0000 - val_loss: 0.1926 - val_acc: 0.9819\n"
     ]
    },
    {
     "data": {
      "text/plain": [
       "<keras.callbacks.History at 0x26f33d9acc0>"
      ]
     },
     "execution_count": 90,
     "metadata": {},
     "output_type": "execute_result"
    }
   ],
   "source": [
    "model.fit(x_train_N,l_train,epochs=90,batch_size=256,validation_split = 0.2,verbose=2)"
   ]
  },
  {
   "cell_type": "code",
   "execution_count": 91,
   "metadata": {},
   "outputs": [
    {
     "name": "stdout",
     "output_type": "stream",
     "text": [
      "10000/10000 [==============================] - 6s 631us/step\n",
      "The loss on the test data: \n",
      "0.19156952920535383\n",
      "Accuarcy of the model on the  test data:\n",
      "0.9821\n"
     ]
    }
   ],
   "source": [
    "# Calculated loss and accuracy on test data \n",
    "\n",
    "test_loss,test_acc=model.evaluate(x_test_N,l_test)\n",
    "print(\"The loss on the test data: \")\n",
    "print(test_loss)\n",
    "\n",
    "print(\"Accuarcy of the model on the  test data:\")\n",
    "print(test_acc)\n"
   ]
  },
  {
   "cell_type": "code",
   "execution_count": 83,
   "metadata": {},
   "outputs": [
    {
     "name": "stdout",
     "output_type": "stream",
     "text": [
      "(1024, 1024)\n",
      "[array([ 0.0297671 , -0.06989929, -0.00261092, ..., -0.06184525,\n",
      "       -0.02157955, -0.06911693], dtype=float32), array([ 0.03092804,  0.04490838, -0.07856093, ..., -0.13725804,\n",
      "       -0.09014807, -0.08507124], dtype=float32), array([-0.12538783, -0.03990418, -0.16335529, ..., -0.1462563 ,\n",
      "        0.19352268, -0.09538988], dtype=float32), array([ 0.036493  , -0.02243669,  0.05040984, ..., -0.05329393,\n",
      "        0.15030588,  0.08801403], dtype=float32), array([ 0.00244802,  0.25374588, -0.00566718, ..., -0.04153974,\n",
      "       -0.01120266,  0.01646812], dtype=float32), array([ 0.03701366, -0.15480103, -0.12137099, -0.02609856, -0.08618501,\n",
      "       -0.11707236, -0.14775993, -0.12712507,  0.3624093 ,  0.0990948 ],\n",
      "      dtype=float32)]\n"
     ]
    }
   ],
   "source": [
    "# Find w and b of evry layer\n",
    "layer_weights = model.get_weights()\n",
    "\n",
    "B = layer_weights[1::2]\n",
    "# We can also find weight and biases by following method\n",
    "first_layer_weights=model.layers[0].get_weights()[0]\n",
    "first_layer_biases=model.layers[0].get_weights()[1]\n",
    "second_layer_weights=model.layers[1].get_weights()[0]\n",
    "second_layer_biases=model.layers[1].get_weights()[1]\n",
    "third_layer_weights=model.layers[2].get_weights()[0]\n",
    "third_layer_biases=model.layers[2].get_weights()[1]\n",
    "fourth_layer_weights=model.layers[3].get_weights()[0]\n",
    "fourth_layer_biases=model.layers[3].get_weights()[1]\n",
    "fifth_layer_weights=model.layers[4].get_weights()[0]\n",
    "fifth_layer_biases=model.layers[4].get_weights()[1]\n",
    "sixth_layer_weights=model.layers[5].get_weights()[0]\n",
    "sixth_layer_biases=model.layers[5].get_weights()[1]\n",
    "\n",
    "\n",
    "\n",
    "print(fifth_layer_weights.shape)\n",
    "print(B)"
   ]
  },
  {
   "cell_type": "code",
   "execution_count": 76,
   "metadata": {},
   "outputs": [],
   "source": [
    "# Performing singular value decomposition\n",
    "import numpy as np\n",
    "from numpy import linalg as LA\n",
    "u, S, v = LA.svd(first_layer_weights)"
   ]
  },
  {
   "cell_type": "code",
   "execution_count": 77,
   "metadata": {},
   "outputs": [],
   "source": [
    "k = []\n",
    "U=[]\n",
    "s=[]\n",
    "V=[]\n",
    "for i in range(5):\n",
    "    U.append([])\n",
    "    s.append([])\n",
    "    V.append([])\n",
    "\n",
    "    \n",
    "# Reference was taken from stack overflow\n",
    "for i in range(5):\n",
    "    U[i],s[i],V[i] = LA.svd(layer_weights[i*2])\n",
    "    G = np.zeros((U[i].shape[0], V[i].shape[0]))\n",
    "    G[:U[i].shape[0], :U[i].shape[0]] = np.diag(s[i])\n",
    "    k.append((U[i]@G)@V[i])"
   ]
  },
  {
   "cell_type": "code",
   "execution_count": 78,
   "metadata": {},
   "outputs": [],
   "source": [
    "# Approximation of new weight matrices\n",
    "#Reference was taken from stackoverflow\n",
    "W = []\n",
    "for d in [10, 20, 50, 100, 200]:\n",
    "    list = []\n",
    "    for i in range(5):\n",
    "        G = np.zeros((U[i].shape[0], V[i].shape[0]))\n",
    "        G[:d, :d] = np.diag(s[i][:d])\n",
    "        list.append((U[i]@G)@V[i])\n",
    "    W.append(list)\n",
    "W.append(k)"
   ]
  },
  {
   "cell_type": "code",
   "execution_count": 79,
   "metadata": {},
   "outputs": [
    {
     "name": "stdout",
     "output_type": "stream",
     "text": [
      "10000/10000 [==============================] - 3s 252us/step\n",
      "10000/10000 [==============================] - 3s 255us/step\n",
      "10000/10000 [==============================] - 3s 257us/step\n",
      "10000/10000 [==============================] - 3s 255us/step\n",
      "10000/10000 [==============================] - 3s 256us/step\n",
      "10000/10000 [==============================] - 3s 255us/step\n"
     ]
    },
    {
     "data": {
      "image/png": "[encoded data removed]",
      "text/plain": [
       "<Figure size 432x288 with 1 Axes>"
      ]
     },
     "metadata": {
      "needs_background": "light"
     },
     "output_type": "display_data"
    },
    {
     "name": "stdout",
     "output_type": "stream",
     "text": [
      "[69.87, 93.95, 97.68, 97.74000000000001, 97.75, 97.71]\n"
     ]
    }
   ],
   "source": [
    "# Plot of Accuracy vs d\n",
    "# Reference was taken from matplotlib documentation\n",
    "\n",
    "import matplotlib.pyplot as plt\n",
    "acc_list = []\n",
    "for i in range(len(W)):\n",
    "    layer_weights[:10:2] = W[i]\n",
    "    model.set_weights(layer_weights)\n",
    "    acc_list.append(model.evaluate(x_test_N, l_test)[1]*100)\n",
    "\n",
    "values=['10', '20', '50', '100', '200','1024']\n",
    "plt.plot(values, acc_list) \n",
    "plt.xlabel('d')\n",
    "plt.ylabel('Accuracy of the Network')\n",
    "plt.show()\n",
    "print(acc_list)"
   ]
  },
  {
   "cell_type": "code",
   "execution_count": 18,
   "metadata": {},
   "outputs": [],
   "source": [
    "# Reference was taken from keras documentation  from https://keras.io/layers/writing-your-own-keras-layers/\n",
    "\n",
    "from keras.models import Model\n",
    "from keras import Input\n",
    "from keras.initializers import Constant\n",
    "from keras import backend as K\n",
    "from keras.layers import Layer\n",
    "\n",
    "class MyLayer(Layer):\n",
    "    \n",
    "    def __init__(self, output_dim, U, Vbar, bias, **kwargs):\n",
    "        self.output_dim = output_dim\n",
    "        self.U_mat = U\n",
    "        self.Vbar_mat = Vbar\n",
    "        self.b = bias\n",
    "        super(MyLayer, self).__init__(**kwargs)\n",
    "\n",
    "    def build(self, input_shape):\n",
    "\n",
    "        self.U = self.add_weight(name='U', \n",
    "                                      shape=self.U_mat.shape,\n",
    "                                      initializer=Constant(self.U_mat),\n",
    "                                      trainable=True)\n",
    "        self.Vbar = self.add_weight(name='Vbar', \n",
    "                                      shape=self.Vbar_mat.shape,\n",
    "                                      initializer=Constant(self.Vbar_mat),\n",
    "                                      trainable=True)\n",
    "        \n",
    "        self.bias = self.add_weight(name = 'bias',\n",
    "                                      shape = (self.output_dim,),\n",
    "                                      initializer=Constant(self.b),\n",
    "                                      trainable=True)\n",
    "        \n",
    "        super(MyLayer, self).build(input_shape)  \n",
    "\n",
    "    def call(self, x):\n",
    "        return K.relu(K.dot(x, K.dot(self.U, self.Vbar)) + self.bias)\n",
    "\n",
    "    def compute_output_shape(self, input_shape):\n",
    "        return (input_shape[0], self.output_dim)"
   ]
  },
  {
   "cell_type": "code",
   "execution_count": 19,
   "metadata": {},
   "outputs": [],
   "source": [
    "\n",
    "last_layer = model.get_layer(index=5)\n",
    "sixth_layer_weights=model.layers[5].get_weights()[0]\n",
    "\n"
   ]
  },
  {
   "cell_type": "code",
   "execution_count": 20,
   "metadata": {},
   "outputs": [],
   "source": [
    "# Singular Value Decompos on each weight matrix\n",
    "\n",
    "k1 = []\n",
    "u=[]\n",
    "s=[]\n",
    "v=[]\n",
    "for i in range(5):\n",
    "    u.append([])\n",
    "    s.append([])\n",
    "    v.append([])\n",
    "for i in range(5):\n",
    "    u[i],s[i],v[i] = LA.svd(layer_weights[i*2])\n",
    "    g = np.zeros((u[i].shape[0], v[i].shape[0]))\n",
    "    g[:20, :20] = np.diag(s[i][:20])\n",
    "    k1.append((u[i], g@v[i]))"
   ]
  },
  {
   "cell_type": "code",
   "execution_count": 22,
   "metadata": {},
   "outputs": [],
   "source": [
    "# New model\n",
    "#Reference was taken from stack overflow and keras documentation \n",
    "input = Input(shape = (28*28,))\n",
    "x = MyLayer(1024, U = k1[0][0], Vbar = k1[0][1], bias = B[0])(input)\n",
    "x = MyLayer(1024, U = k1[1][0], Vbar = k1[1][1], bias = B[1])(x)\n",
    "x = MyLayer(1024, U = k1[2][0], Vbar = k1[2][1], bias = B[2])(x)\n",
    "x = MyLayer(1024, U = k1[3][0], Vbar = k1[3][1], bias = B[3])(x)\n",
    "x = MyLayer(1024, U = k1[4][0], Vbar = k1[4][1], bias = B[4])(x)\n",
    "output = last_layer(x)\n",
    "new_model = Model(input, output)\n",
    "new_model.compile(optimizer='adam',loss='categorical_crossentropy',metrics=['accuracy'])"
   ]
  },
  {
   "cell_type": "code",
   "execution_count": 23,
   "metadata": {},
   "outputs": [
    {
     "name": "stdout",
     "output_type": "stream",
     "text": [
      "Train on 48000 samples, validate on 12000 samples\n",
      "Epoch 1/15\n",
      " - 64s - loss: 1.4348 - acc: 0.4731 - val_loss: 0.4600 - val_acc: 0.8759\n",
      "Epoch 2/15\n",
      " - 59s - loss: 0.3030 - acc: 0.9148 - val_loss: 0.2190 - val_acc: 0.9367\n",
      "Epoch 3/15\n",
      " - 113s - loss: 0.1567 - acc: 0.9550 - val_loss: 0.1462 - val_acc: 0.9593\n",
      "Epoch 4/15\n",
      " - 30s - loss: 0.1005 - acc: 0.9710 - val_loss: 0.1205 - val_acc: 0.9656\n",
      "Epoch 5/15\n",
      " - 30s - loss: 0.0800 - acc: 0.9765 - val_loss: 0.1391 - val_acc: 0.9630\n",
      "Epoch 6/15\n",
      " - 29s - loss: 0.0663 - acc: 0.9808 - val_loss: 0.1308 - val_acc: 0.9643\n",
      "Epoch 7/15\n",
      " - 30s - loss: 0.0571 - acc: 0.9826 - val_loss: 0.1123 - val_acc: 0.9698\n",
      "Epoch 8/15\n",
      " - 29s - loss: 0.0514 - acc: 0.9849 - val_loss: 0.1351 - val_acc: 0.9698\n",
      "Epoch 9/15\n",
      " - 28s - loss: 0.0451 - acc: 0.9866 - val_loss: 0.1302 - val_acc: 0.9689\n",
      "Epoch 10/15\n",
      " - 28s - loss: 0.0434 - acc: 0.9869 - val_loss: 0.1304 - val_acc: 0.9693\n",
      "Epoch 11/15\n",
      " - 26s - loss: 0.0381 - acc: 0.9890 - val_loss: 0.1159 - val_acc: 0.9708\n",
      "Epoch 12/15\n",
      " - 27s - loss: 0.0364 - acc: 0.9890 - val_loss: 0.1117 - val_acc: 0.9729\n",
      "Epoch 13/15\n",
      " - 29s - loss: 0.0335 - acc: 0.9901 - val_loss: 0.1219 - val_acc: 0.9718\n",
      "Epoch 14/15\n",
      " - 29s - loss: 0.0277 - acc: 0.9913 - val_loss: 0.1350 - val_acc: 0.9695\n",
      "Epoch 15/15\n",
      " - 30s - loss: 0.0299 - acc: 0.9909 - val_loss: 0.1292 - val_acc: 0.9715\n"
     ]
    },
    {
     "data": {
      "text/plain": [
       "<keras.callbacks.History at 0x26f3725ef28>"
      ]
     },
     "execution_count": 23,
     "metadata": {},
     "output_type": "execute_result"
    }
   ],
   "source": [
    "new_model.fit(x_train_N,l_train,epochs=15,batch_size=1024,validation_split = 0.2,verbose=2)"
   ]
  },
  {
   "cell_type": "code",
   "execution_count": 24,
   "metadata": {},
   "outputs": [
    {
     "name": "stdout",
     "output_type": "stream",
     "text": [
      "10000/10000 [==============================] - 31s 3ms/step\n",
      "The loss on the test data: \n",
      "0.11712642328971996\n",
      "Accuarcy of the new model on the  test data:\n",
      "0.9739\n"
     ]
    }
   ],
   "source": [
    "# Evaluating the model on test data\n",
    "test_loss,test_acc=new_model.evaluate(x_test_N,l_test)\n",
    "print(\"The loss on the test data: \")\n",
    "print(test_loss)\n",
    "\n",
    "print(\"Accuarcy of the new model on the  test data:\")\n",
    "print(test_acc)"
   ]
  },
  {
   "cell_type": "markdown",
   "metadata": {},
   "source": [
    "#Question Number 2"
   ]
  },
  {
   "cell_type": "code",
   "execution_count": 25,
   "metadata": {},
   "outputs": [
    {
     "name": "stdout",
     "output_type": "stream",
     "text": [
      "10\n",
      "10\n",
      "10\n"
     ]
    }
   ],
   "source": [
    "import numpy as np\n",
    "import librosa\n",
    "#Reference from stackoverflow \n",
    "#Input file\n",
    "data_X=[]\n",
    "for i in range(10):\n",
    "    s, sr=librosa.load(r'timit-homework/tr/trx000' + str(i) + '.wav', sr=None)\n",
    "    S=librosa.stft(s, n_fft=1024, hop_length=512)\n",
    "    data_X.append(S)\n",
    "    \n",
    "#Signal file\n",
    "signal_X=[]                      \n",
    "for i in range(10):\n",
    "    sn, sr=librosa.load(r'timit-homework/tr/trs000' + str(i) + '.wav', sr=None)\n",
    "    X=librosa.stft(sn, n_fft=1024, hop_length=512)\n",
    "    signal_X.append(X)\n",
    "    \n",
    "#noise file                       \n",
    "noise_X=[]                      \n",
    "for i in range(10):\n",
    "    sm, sr=librosa.load(r'timit-homework/tr/trn000' + str(i) + '.wav', sr=None)\n",
    "    Xm=librosa.stft(sm, n_fft=1024, hop_length=512)\n",
    "    noise_X.append(Xm)\n",
    "print(len(data_X))\n",
    "print(len(noise_X))\n",
    "print(len(signal_X))"
   ]
  },
  {
   "cell_type": "code",
   "execution_count": 26,
   "metadata": {},
   "outputs": [
    {
     "name": "stdout",
     "output_type": "stream",
     "text": [
      "100\n",
      "100\n",
      "100\n",
      "1000\n",
      "1000\n",
      "1000\n",
      "1200\n",
      "1200\n",
      "1200\n"
     ]
    }
   ],
   "source": [
    "  # Training data set \n",
    "for i in range(10, 100):\n",
    "    s1, sr=librosa.load(r'timit-homework/tr/trx00' + str(i) + '.wav', sr=None)\n",
    "    S1=librosa.stft(s1, n_fft=1024, hop_length=512)\n",
    "    data_X.append(S1)\n",
    "    \n",
    "                    \n",
    "for i in range(10,100):\n",
    "    sn1, sr=librosa.load(r'timit-homework/tr/trs00' + str(i) + '.wav', sr=None)\n",
    "    X1=librosa.stft(sn1, n_fft=1024, hop_length=512)\n",
    "    signal_X.append(X1)\n",
    "                     \n",
    "for i in range(10,100):\n",
    "    sm1, sr=librosa.load(r'timit-homework/tr/trn00' + str(i) + '.wav', sr=None)\n",
    "    Xm1=librosa.stft(sm1, n_fft=1024, hop_length=512)\n",
    "    noise_X.append(Xm1)\n",
    "###\n",
    " \n",
    "print(len(data_X))\n",
    "print(len(noise_X))\n",
    "print(len(signal_X))\n",
    "\n",
    "for i in range(100, 1000):\n",
    "    s2, sr=librosa.load(r'timit-homework/tr/trx0' + str(i) + '.wav', sr=None)\n",
    "    S2=librosa.stft(s2, n_fft=1024, hop_length=512)\n",
    "    data_X.append(S2)\n",
    "    \n",
    "    sn2, sr=librosa.load(r'timit-homework/tr/trs0' + str(i) + '.wav', sr=None)\n",
    "    X2=librosa.stft(sn2, n_fft=1024, hop_length=512)\n",
    "    signal_X.append(X2)\n",
    "                     \n",
    "    sm2, sr=librosa.load(r'timit-homework/tr/trn0' + str(i) + '.wav', sr=None)\n",
    "    Xm2=librosa.stft(sm2, n_fft=1024, hop_length=512)\n",
    "    noise_X.append(Xm2)\n",
    "\n",
    "print(len(data_X))\n",
    "print(len(noise_X))\n",
    "print(len(signal_X))\n",
    " ###   \n",
    "for i in range(1000, 1200):\n",
    "    s3, sr=librosa.load(r'timit-homework/tr/trx' + str(i) + '.wav', sr=None)\n",
    "    S3=librosa.stft(s3, n_fft=1024, hop_length=512)\n",
    "    data_X.append(S3)\n",
    "    \n",
    "    sn3, sr=librosa.load(r'timit-homework/tr/trs' + str(i) + '.wav', sr=None)\n",
    "    X3=librosa.stft(sn3, n_fft=1024, hop_length=512)\n",
    "    signal_X.append(X3)\n",
    "                     \n",
    "    sm3, sr=librosa.load(r'timit-homework/tr/trn' + str(i) + '.wav', sr=None)\n",
    "    Xm3=librosa.stft(sm3, n_fft=1024, hop_length=512)\n",
    "    noise_X.append(Xm3)\n",
    "print(len(data_X))\n",
    "print(len(noise_X))\n",
    "print(len(signal_X))   \n"
   ]
  },
  {
   "cell_type": "code",
   "execution_count": 30,
   "metadata": {},
   "outputs": [],
   "source": [
    "#Training Data Set\n",
    "mod_data_X = []\n",
    "for i in data_X:\n",
    "    mod_data_X.append(np.abs(i).transpose())\n",
    "mod_Signal_X = []\n",
    "for i in signal_X:\n",
    "    mod_Signal_X.append(np.abs(i).transpose())\n",
    "mod_noise_X = []\n",
    "for i in noise_X:\n",
    "    mod_noise_X.append(np.abs(i).transpose())\n"
   ]
  },
  {
   "cell_type": "code",
   "execution_count": 31,
   "metadata": {},
   "outputs": [],
   "source": [
    "#Validation Data set\n",
    "\n",
    "\n",
    "data_V=[]\n",
    "signal_V=[]\n",
    "noise_V=[]\n",
    "\n",
    "\n",
    "for i in range(0,10):\n",
    "    v1, sr=librosa.load('timit-homework/v/vx000' + str(i) + '.wav', sr=None) \n",
    "    V1=librosa.stft(v1, n_fft=1024, hop_length=512) \n",
    "    data_V.append(V1)  \n",
    "    vs1, sr=librosa.load('timit-homework/v/vs000' + str(i) + '.wav', sr=None) \n",
    "    VS1=librosa.stft(vs1, n_fft=1024, hop_length=512)\n",
    "    signal_V.append(VS1)    \n",
    "    vn1, sr=librosa.load('timit-homework/v/vn000' + str(i) + '.wav', sr=None) \n",
    "    VN1=librosa.stft(vn1, n_fft=1024, hop_length=512) \n",
    "    noise_V.append(VN1)\n",
    "for i in range(10, 100):\n",
    "    \n",
    "    \n",
    "    v1, sr=librosa.load('timit-homework/v/vx00' + str(i) + '.wav', sr=None) \n",
    "    V1=librosa.stft(v1, n_fft=1024, hop_length=512) \n",
    "    data_V.append(V1)    \n",
    "    vs1, sr=librosa.load('timit-homework/v/vs00' + str(i) + '.wav', sr=None) \n",
    "    VS1=librosa.stft(vs1, n_fft=1024, hop_length=512)\n",
    "    signal_V.append(VS1)    \n",
    "    vn1, sr=librosa.load('timit-homework/v/vn00' + str(i) + '.wav', sr=None) \n",
    "    VN1=librosa.stft(vn1, n_fft=1024, hop_length=512) \n",
    "    noise_V.append(VN1)    \n",
    "for i in range(100, 1000):\n",
    "    \n",
    "    \n",
    "    v1, sr=librosa.load('timit-homework/v/vx0' + str(i) + '.wav', sr=None) \n",
    "    V1=librosa.stft(v1, n_fft=1024, hop_length=512) \n",
    "    data_V.append(V1)    \n",
    "    vs1, sr=librosa.load('timit-homework/v/vs0' + str(i) + '.wav', sr=None) \n",
    "    VS1=librosa.stft(vs1, n_fft=1024, hop_length=512)\n",
    "    signal_V.append(VS1)    \n",
    "    vn1, sr=librosa.load('timit-homework/v/vn0' + str(i) + '.wav', sr=None) \n",
    "    VN1=librosa.stft(vn1, n_fft=1024, hop_length=512) \n",
    "    noise_V.append(VN1)\n",
    "for i in range(1000, 1200):\n",
    "    \n",
    "    v1, sr=librosa.load('timit-homework/v/vx' + str(i) + '.wav', sr=None) \n",
    "    V1=librosa.stft(v1, n_fft=1024, hop_length=512) \n",
    "    data_V.append(V1)   \n",
    "    vs1, sr=librosa.load('timit-homework/v/vs' + str(i) + '.wav', sr=None) \n",
    "    VS1=librosa.stft(vs1, n_fft=1024, hop_length=512)\n",
    "    signal_V.append(VS1)    \n",
    "    vn1, sr=librosa.load('timit-homework/v/vn' + str(i) + '.wav', sr=None) \n",
    "    VN1=librosa.stft(vn1, n_fft=1024, hop_length=512) \n",
    "    noise_V.append(VN1)"
   ]
  },
  {
   "cell_type": "code",
   "execution_count": 32,
   "metadata": {},
   "outputs": [],
   "source": [
    "#Finding the magnitude and taking transpose of the absolute validation dataset\n",
    "V_data_mod = []\n",
    "for i in data_V:\n",
    "    V_data_mod.append(np.abs(i).transpose())\n",
    "V_Signal_mod = []\n",
    "for i in signal_V:\n",
    "    V_Signal_mod.append(np.abs(i).transpose())\n",
    "V_Noise_mod = []\n",
    "for i in noise_V:\n",
    "    V_Noise_mod.append(np.abs(i).transpose())\n",
    "\n",
    "\n",
    "    "
   ]
  },
  {
   "cell_type": "code",
   "execution_count": 33,
   "metadata": {},
   "outputs": [],
   "source": [
    "#Ideal Binary Mask on training data\n",
    "IBM = []\n",
    "for i in range(len(mod_data_X)):\n",
    "    IBM.append(mod_Signal_X[i] - mod_noise_X[i])\n",
    "    \n",
    "for i in range(len(IBM)):\n",
    "    IBM[i][IBM[i]>=0] = 1\n",
    "    IBM[i][IBM[i]<0] = 0"
   ]
  },
  {
   "cell_type": "code",
   "execution_count": 35,
   "metadata": {},
   "outputs": [],
   "source": [
    "#Ideal Binary Mask on validation data set\n",
    "Valid_IBM = []\n",
    "for i in range(len(V_data_mod)):\n",
    "    Valid_IBM.append(V_Signal_mod[i] - V_Noise_mod[i])\n",
    "    \n",
    "for i in range(len(Valid_IBM)):\n",
    "    Valid_IBM[i][Valid_IBM[i]>=0] = 1\n",
    "    Valid_IBM[i][Valid_IBM[i]<0] = 0"
   ]
  },
  {
   "cell_type": "code",
   "execution_count": 36,
   "metadata": {},
   "outputs": [],
   "source": [
    "#GRU Model\n",
    "# Reference from stack overflow\n",
    "from keras import models\n",
    "from keras.layers import Dense, GRU, TimeDistributed, InputLayer, Layer\n",
    "from keras.models import Sequential\n",
    "model_g = Sequential()\n",
    "model_g.add(InputLayer(input_shape= (None, 513)))\n",
    "model_g.add(GRU(513, return_sequences = True, dropout = 0.1, recurrent_dropout = 0.3))\n",
    "model_g.add(GRU(513, return_sequences = True, recurrent_dropout = 0.3))\n",
    "model_g.add(TimeDistributed(Dense(513, activation = 'sigmoid')))"
   ]
  },
  {
   "cell_type": "code",
   "execution_count": 37,
   "metadata": {},
   "outputs": [],
   "source": [
    "model_g.compile(optimizer='adam',loss= 'binary_crossentropy',metrics=['accuracy'])"
   ]
  },
  {
   "cell_type": "code",
   "execution_count": 38,
   "metadata": {},
   "outputs": [],
   "source": [
    "#Generating batches of 10 samples of data\n",
    "def sample(mod_data_X, IBM):\n",
    "    while True:\n",
    "        for i in range(0, len(mod_data_X), 10):\n",
    "            if i >= len(mod_data_X)-10:\n",
    "                i = 0\n",
    "            batch = np.stack(mod_data_X[i:i+10])\n",
    "            label = np.stack(IBM[i:i+10])\n",
    "            yield batch, label"
   ]
  },
  {
   "cell_type": "code",
   "execution_count": 39,
   "metadata": {},
   "outputs": [
    {
     "data": {
      "text/plain": [
       "list"
      ]
     },
     "execution_count": 39,
     "metadata": {},
     "output_type": "execute_result"
    }
   ],
   "source": [
    "type(mod_data_X)\n",
    "type(IBM)"
   ]
  },
  {
   "cell_type": "code",
   "execution_count": 52,
   "metadata": {},
   "outputs": [
    {
     "name": "stdout",
     "output_type": "stream",
     "text": [
      "Epoch 1/40\n",
      "120/120 [==============================] - 161s 1s/step - loss: 0.3417 - acc: 0.8479\n",
      "Epoch 2/40\n",
      "120/120 [==============================] - 162s 1s/step - loss: 0.3407 - acc: 0.8483\n",
      "Epoch 3/40\n",
      "120/120 [==============================] - 161s 1s/step - loss: 0.3404 - acc: 0.8485\n",
      "Epoch 4/40\n",
      "120/120 [==============================] - 163s 1s/step - loss: 0.3388 - acc: 0.8496\n",
      "Epoch 5/40\n",
      "120/120 [==============================] - 161s 1s/step - loss: 0.3367 - acc: 0.8503\n",
      "Epoch 6/40\n",
      "120/120 [==============================] - 161s 1s/step - loss: 0.3371 - acc: 0.8502\n",
      "Epoch 7/40\n",
      "120/120 [==============================] - 162s 1s/step - loss: 0.3373 - acc: 0.8501\n",
      "Epoch 8/40\n",
      "120/120 [==============================] - 6165s 51s/step - loss: 0.3364 - acc: 0.8504\n",
      "Epoch 9/40\n",
      "120/120 [==============================] - 163s 1s/step - loss: 0.3361 - acc: 0.8506\n",
      "Epoch 10/40\n",
      "120/120 [==============================] - 162s 1s/step - loss: 0.3349 - acc: 0.8511\n",
      "Epoch 11/40\n",
      "120/120 [==============================] - 161s 1s/step - loss: 0.3329 - acc: 0.8522\n",
      "Epoch 12/40\n",
      "120/120 [==============================] - 163s 1s/step - loss: 0.3306 - acc: 0.8534\n",
      "Epoch 13/40\n",
      "120/120 [==============================] - 163s 1s/step - loss: 0.3302 - acc: 0.8535\n",
      "Epoch 14/40\n",
      "120/120 [==============================] - 179s 1s/step - loss: 0.3306 - acc: 0.8534\n",
      "Epoch 15/40\n",
      "120/120 [==============================] - 179s 1s/step - loss: 0.3304 - acc: 0.8534\n",
      "Epoch 16/40\n",
      "120/120 [==============================] - 172s 1s/step - loss: 0.3299 - acc: 0.8537\n",
      "Epoch 17/40\n",
      "120/120 [==============================] - 162s 1s/step - loss: 0.3281 - acc: 0.8546\n",
      "Epoch 18/40\n",
      "120/120 [==============================] - 168s 1s/step - loss: 0.3259 - acc: 0.8556\n",
      "Epoch 19/40\n",
      "120/120 [==============================] - 175s 1s/step - loss: 0.3244 - acc: 0.8563\n",
      "Epoch 20/40\n",
      "120/120 [==============================] - 179s 1s/step - loss: 0.3238 - acc: 0.8567\n",
      "Epoch 21/40\n",
      "120/120 [==============================] - 179s 1s/step - loss: 0.3235 - acc: 0.8569\n",
      "Epoch 22/40\n",
      "120/120 [==============================] - 176s 1s/step - loss: 0.3238 - acc: 0.8567\n",
      "Epoch 23/40\n",
      "120/120 [==============================] - 176s 1s/step - loss: 0.3226 - acc: 0.8573\n",
      "Epoch 24/40\n",
      "120/120 [==============================] - 175s 1s/step - loss: 0.3222 - acc: 0.8574\n",
      "Epoch 25/40\n",
      "120/120 [==============================] - 165s 1s/step - loss: 0.3215 - acc: 0.8578\n",
      "Epoch 26/40\n",
      "120/120 [==============================] - 193s 2s/step - loss: 0.3210 - acc: 0.8580\n",
      "Epoch 27/40\n",
      "120/120 [==============================] - 332s 3s/step - loss: 0.3194 - acc: 0.8588\n",
      "Epoch 28/40\n",
      "120/120 [==============================] - 328s 3s/step - loss: 0.3173 - acc: 0.8598\n",
      "Epoch 29/40\n",
      "120/120 [==============================] - 342s 3s/step - loss: 0.3163 - acc: 0.8604\n",
      "Epoch 30/40\n",
      "120/120 [==============================] - 348s 3s/step - loss: 0.3155 - acc: 0.8607\n",
      "Epoch 31/40\n",
      "120/120 [==============================] - 353s 3s/step - loss: 0.3160 - acc: 0.8605\n",
      "Epoch 32/40\n",
      "120/120 [==============================] - 346s 3s/step - loss: 0.3152 - acc: 0.8608\n",
      "Epoch 33/40\n",
      "120/120 [==============================] - 357s 3s/step - loss: 0.3152 - acc: 0.8609\n",
      "Epoch 34/40\n",
      "120/120 [==============================] - 361s 3s/step - loss: 0.3153 - acc: 0.8609\n",
      "Epoch 35/40\n",
      "120/120 [==============================] - 359s 3s/step - loss: 0.3162 - acc: 0.8603\n",
      "Epoch 36/40\n",
      "120/120 [==============================] - 369s 3s/step - loss: 0.3161 - acc: 0.8604\n",
      "Epoch 37/40\n",
      "120/120 [==============================] - 362s 3s/step - loss: 0.3146 - acc: 0.8612\n",
      "Epoch 38/40\n",
      "120/120 [==============================] - 369s 3s/step - loss: 0.3145 - acc: 0.8611\n",
      "Epoch 39/40\n",
      "120/120 [==============================] - 373s 3s/step - loss: 0.3145 - acc: 0.8612\n",
      "Epoch 40/40\n",
      "120/120 [==============================] - 334s 3s/step - loss: 0.3146 - acc: 0.8612\n"
     ]
    },
    {
     "data": {
      "text/plain": [
       "<keras.callbacks.History at 0x26f6362fe10>"
      ]
     },
     "execution_count": 52,
     "metadata": {},
     "output_type": "execute_result"
    }
   ],
   "source": [
    "# Training model\n",
    "model_g.fit_generator(sample(mod_data_X, IBM),steps_per_epoch = len(mod_data_X)/10, epochs = 40)"
   ]
  },
  {
   "cell_type": "code",
   "execution_count": 53,
   "metadata": {},
   "outputs": [],
   "source": [
    "valid = []\n",
    "for i in range(0, len(V_data_mod), 10):\n",
    "    pred_valid = model_g.predict(np.stack(V_data_mod[i:i+10]))\n",
    "    # Denoising validation files using Ideal Binary Mask predictd by the model\n",
    "    for j in range(10):\n",
    "        \n",
    "        trans_v=pred_valid[j].transpose()\n",
    "        Mul=np.multiply(trans_v,data_V[i:i+10][j])\n",
    "\n",
    "        valid.extend([Mul])"
   ]
  },
  {
   "cell_type": "code",
   "execution_count": 54,
   "metadata": {},
   "outputs": [],
   "source": [
    "Pred_Valid_Signal=[]\n",
    "for i in valid:\n",
    "    Pred_Valid_Signal.append(librosa.istft(i, hop_length=512))"
   ]
  },
  {
   "cell_type": "code",
   "execution_count": 55,
   "metadata": {},
   "outputs": [
    {
     "name": "stdout",
     "output_type": "stream",
     "text": [
      "The Signal to Noise ratio on Validation data set is: 12.940772611896197\n"
     ]
    }
   ],
   "source": [
    "#Calculation of SNR on validation data set\n",
    "SNR = []\n",
    "for i in range(len(valid)):\n",
    "    SNR.append(10*np.log10(np.add.reduce(np.abs(signal_V[i])**2, axis = None)/np.add.reduce((np.abs(signal_V[i])-np.abs(valid[i]))**2, axis =None)))\n",
    "\n",
    "print('The Signal to Noise ratio on Validation data set is:', np.mean(SNR))"
   ]
  },
  {
   "cell_type": "code",
   "execution_count": null,
   "metadata": {},
   "outputs": [],
   "source": [
    "#Validation model\n",
    "#model_g.fit_generator(sample(mod_data_V,IBM_V),steps_per_epoch=len(mod_data_V)/10,epochs=40)"
   ]
  },
  {
   "cell_type": "code",
   "execution_count": 56,
   "metadata": {},
   "outputs": [],
   "source": [
    "## Loading Test Data File\n",
    "\n",
    "import numpy as np\n",
    "import librosa\n",
    "#Reference from stackoverflow \n",
    "#Input file\n",
    "data_test=[]\n",
    "for i in range(10):\n",
    "    s, sr=librosa.load(r'timit-homework/te/tex000' + str(i) + '.wav', sr=None)\n",
    "    S=librosa.stft(s, n_fft=1024, hop_length=512)\n",
    "    data_test.append(S)\n",
    "    \n",
    "for i in range(10, 100):\n",
    "    s1, sr=librosa.load(r'timit-homework/te/tex00' + str(i) + '.wav', sr=None)\n",
    "    S1=librosa.stft(s1, n_fft=1024, hop_length=512)\n",
    "    data_test.append(S1)\n",
    "for i in range(100, 400):\n",
    "    s2, sr=librosa.load(r'timit-homework/te/tex0' + str(i) + '.wav', sr=None)\n",
    "    S2=librosa.stft(s2, n_fft=1024, hop_length=512)\n",
    "    data_test.append(S2)\n",
    "    "
   ]
  },
  {
   "cell_type": "code",
   "execution_count": 57,
   "metadata": {},
   "outputs": [],
   "source": [
    "# Calculating magnitude of test data\n",
    "\n",
    "test_data_mod = []\n",
    "for i in data_test:\n",
    "    test_data_mod.append(np.abs(i).transpose())\n",
    "                    \n"
   ]
  },
  {
   "cell_type": "code",
   "execution_count": 58,
   "metadata": {},
   "outputs": [],
   "source": [
    "# Predicting Ideal Binary Mask for test samples\n",
    "test = []\n",
    "for i in range(0, len(test_data_mod), 10):\n",
    "    pred_test = model_g.predict(np.stack(test_data_mod[i:i+10]))\n",
    "\n",
    "    for j in range(10):\n",
    "        trans_test=pred_test[j].transpose()\n",
    "        Mul_test=np.multiply(trans_test,data_test[i:i+10][j])\n",
    "\n",
    "        test.extend([Mul_test])"
   ]
  },
  {
   "cell_type": "code",
   "execution_count": 59,
   "metadata": {},
   "outputs": [],
   "source": [
    "# Performing Inverse Short Time Fourier Transform to get the output signal\n",
    "test_output=[]\n",
    "for i in test:\n",
    "    test_output.append(librosa.istft(i, hop_length=512))"
   ]
  },
  {
   "cell_type": "code",
   "execution_count": 61,
   "metadata": {},
   "outputs": [],
   "source": [
    "# Storing the cleaned test files\n",
    "i = 0\n",
    "for j in test_output:\n",
    "    librosa.output.write_wav(r'test_file_cleaned' + str(i) + '.wav', j, sr)\n",
    "    i+=1"
   ]
  }
 ],
 "metadata": {
  "kernelspec": {
   "display_name": "Python 3",
   "language": "python",
   "name": "python3"
  },
  "language_info": {
   "codemirror_mode": {
    "name": "ipython",
    "version": 3
   },
   "file_extension": ".py",
   "mimetype": "text/x-python",
   "name": "python",
   "nbconvert_exporter": "python",
   "pygments_lexer": "ipython3",
   "version": "3.6.8"
  }
 },
 "nbformat": 4,
 "nbformat_minor": 2
}
